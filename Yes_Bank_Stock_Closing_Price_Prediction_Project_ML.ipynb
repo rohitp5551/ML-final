{
  "nbformat": 4,
  "nbformat_minor": 0,
  "metadata": {
    "colab": {
      "private_outputs": true,
      "provenance": [],
      "collapsed_sections": [
        "vncDsAP0Gaoa",
        "FJNUwmbgGyua",
        "w6K7xa23Elo4",
        "yQaldy8SH6Dl",
        "mDgbUHAGgjLW",
        "lQ7QKXXCp7Bj",
        "448CDAPjqfQr",
        "t6dVpIINYklI",
        "ijmpgYnKYklI",
        "-JiQyfWJYklI",
        "fge-S5ZAYoAp",
        "85gYPyotYoAp",
        "RoGjAbkUYoAp",
        "iky9q4vBYrdO",
        "F6T5p64dYrdO",
        "y-Ehk30pYrdP",
        "QHF8YVU7Yuh3",
        "GwzvFGzlYuh3",
        "qYpmQ266Yuh3",
        "EXh0U9oCveiU",
        "22aHeOlLveiV",
        "578E2V7j08f6",
        "yiiVWRdJDDil",
        "OB4l2ZhMeS1U",
        "ArJBuiUVfxKd",
        "4qY1EAkEfxKe",
        "PiV4Ypx8fxKe",
        "TfvqoZmBfxKf",
        "KH5McJBi2d8v",
        "iW_Lq9qf2h6X",
        "-Kee-DAl2viO",
        "gCX9965dhzqZ",
        "gIfDvo9L0UH2"
      ],
      "include_colab_link": true
    },
    "kernelspec": {
      "name": "python3",
      "display_name": "Python 3"
    },
    "language_info": {
      "name": "python"
    }
  },
  "cells": [
    {
      "cell_type": "markdown",
      "metadata": {
        "id": "view-in-github",
        "colab_type": "text"
      },
      "source": [
        "<a href=\"https://colab.research.google.com/github/rohitp5551/ML-final/blob/main/Yes_Bank_Stock_Closing_Price_Prediction_Project_ML.ipynb\" target=\"_parent\"><img src=\"https://colab.research.google.com/assets/colab-badge.svg\" alt=\"Open In Colab\"/></a>"
      ]
    },
    {
      "cell_type": "markdown",
      "source": [
        "# **Yes Bank Stock Closing Price Prediction**    -\n",
        "\n"
      ],
      "metadata": {
        "id": "vncDsAP0Gaoa"
      }
    },
    {
      "cell_type": "markdown",
      "source": [
        "##### **Project Type**    - EDA/Regression/Classification/Unsupervised\n",
        "##### **Contribution**    - ROHIT PATIL\n"
      ],
      "metadata": {
        "id": "beRrZCGUAJYm"
      }
    },
    {
      "cell_type": "markdown",
      "source": [
        "# **Project Summary -**"
      ],
      "metadata": {
        "id": "FJNUwmbgGyua"
      }
    },
    {
      "cell_type": "markdown",
      "source": [
        "The project focused on predicting stock prices using historical data. The dataset underwent thorough cleaning to handle missing values, correct data types, and manage outliers, ensuring data quality. Categorical variables were encoded, and numerical features were scaled for optimal modeling.\n",
        "\n",
        "A Ridge regression model was selected for its ability to manage multicollinearity and prevent overfitting. Hyperparameter tuning using GridSearchCV identified the best model with an optimal alpha value of 1.\n",
        "\n",
        "The model demonstrated strong performance during evaluation on both training and test datasets. It achieved a high R-squared score of 0.99 for both sets, indicating a robust fit. Mean squared error (MSE) metrics were also low, with values of 50.04 for training and 82.43 for testing, highlighting the model's predictive accuracy.\n",
        "\n",
        "Exploratory Data Analysis (EDA) provided insights into stock price trends and relationships between variables. Visualizations such as line plots and scatter plots facilitated understanding of data patterns and influential factors affecting stock prices.\n",
        "\n",
        "In summary, the project successfully applied machine learning techniques, specifically Ridge regression, to predict stock prices. Rigorous data preprocessing, effective model selection through hyperparameter tuning, and comprehensive evaluation metrics underscored the project's methodology and findings. Future work could explore additional models or advanced feature engineering techniques to further enhance predictive capabilities."
      ],
      "metadata": {
        "id": "F6v_1wHtG2nS"
      }
    },
    {
      "cell_type": "markdown",
      "source": [
        "# **GitHub Link -**"
      ],
      "metadata": {
        "id": "w6K7xa23Elo4"
      }
    },
    {
      "cell_type": "markdown",
      "source": [
        "https://github.com/rohitp5551/ML-final/blob/main/Final%20Project%20ML.ipynb"
      ],
      "metadata": {
        "id": "h1o69JH3Eqqn"
      }
    },
    {
      "cell_type": "markdown",
      "source": [
        "# **Problem Statement**\n"
      ],
      "metadata": {
        "id": "yQaldy8SH6Dl"
      }
    },
    {
      "cell_type": "markdown",
      "source": [
        "The project aims to predict stock prices using historical data, focusing on developing a machine learning model that accurately forecasts stock prices based on features like Open, High, Low, and Close. Key tasks include thorough data cleaning, preprocessing (including categorical encoding and numerical scaling), testing multiple models (such as Ridge regression), and optimizing model performance through hyperparameter tuning. Evaluation will be based on metrics like R-squared and mean squared error (MSE), with insights from Exploratory Data Analysis (EDA) informing model selection and feature engineering decisions.\n",
        "\n",
        "\n",
        "\n",
        "\n",
        "\n",
        "\n"
      ],
      "metadata": {
        "id": "DpeJGUA3kjGy"
      }
    },
    {
      "cell_type": "markdown",
      "source": [
        "# **General Guidelines** : -  "
      ],
      "metadata": {
        "id": "mDgbUHAGgjLW"
      }
    },
    {
      "cell_type": "markdown",
      "source": [
        "1.   Well-structured, formatted, and commented code is required.\n",
        "2.   Exception Handling, Production Grade Code & Deployment Ready Code will be a plus. Those students will be awarded some additional credits.\n",
        "     \n",
        "     The additional credits will have advantages over other students during Star Student selection.\n",
        "       \n",
        "             [ Note: - Deployment Ready Code is defined as, the whole .ipynb notebook should be executable in one go\n",
        "                       without a single error logged. ]\n",
        "\n",
        "3.   Each and every logic should have proper comments.\n",
        "4. You may add as many number of charts you want. Make Sure for each and every chart the following format should be answered.\n",
        "        \n",
        "\n",
        "```\n",
        "# Chart visualization code\n",
        "```\n",
        "            \n",
        "\n",
        "*   Why did you pick the specific chart?\n",
        "*   What is/are the insight(s) found from the chart?\n",
        "* Will the gained insights help creating a positive business impact?\n",
        "Are there any insights that lead to negative growth? Justify with specific reason.\n",
        "\n",
        "5. You have to create at least 15 logical & meaningful charts having important insights.\n",
        "\n",
        "\n",
        "[ Hints : - Do the Vizualization in  a structured way while following \"UBM\" Rule.\n",
        "\n",
        "U - Univariate Analysis,\n",
        "\n",
        "B - Bivariate Analysis (Numerical - Categorical, Numerical - Numerical, Categorical - Categorical)\n",
        "\n",
        "M - Multivariate Analysis\n",
        " ]\n",
        "\n",
        "\n",
        "\n",
        "\n",
        "\n",
        "6. You may add more ml algorithms for model creation. Make sure for each and every algorithm, the following format should be answered.\n",
        "\n",
        "\n",
        "*   Explain the ML Model used and it's performance using Evaluation metric Score Chart.\n",
        "\n",
        "\n",
        "*   Cross- Validation & Hyperparameter Tuning\n",
        "\n",
        "*   Have you seen any improvement? Note down the improvement with updates Evaluation metric Score Chart.\n",
        "\n",
        "*   Explain each evaluation metric's indication towards business and the business impact pf the ML model used.\n",
        "\n",
        "\n",
        "\n",
        "\n",
        "\n",
        "\n",
        "\n",
        "\n",
        "\n",
        "\n",
        "\n",
        "\n",
        "\n",
        "\n",
        "\n",
        "\n",
        "\n",
        "\n"
      ],
      "metadata": {
        "id": "ZrxVaUj-hHfC"
      }
    },
    {
      "cell_type": "markdown",
      "source": [
        "# ***Let's Begin !***"
      ],
      "metadata": {
        "id": "O_i_v8NEhb9l"
      }
    },
    {
      "cell_type": "markdown",
      "source": [
        "## ***1. Know Your Data***"
      ],
      "metadata": {
        "id": "HhfV-JJviCcP"
      }
    },
    {
      "cell_type": "markdown",
      "source": [
        "### Import Libraries"
      ],
      "metadata": {
        "id": "Y3lxredqlCYt"
      }
    },
    {
      "cell_type": "code",
      "source": [
        "# Import Libraries\n",
        "import pandas as pd\n",
        "import numpy as np\n",
        "import matplotlib.pyplot as plt\n",
        "import seaborn as sns\n",
        "import warnings\n",
        "warnings.simplefilter(action='ignore', category=FutureWarning)"
      ],
      "metadata": {
        "id": "M8Vqi-pPk-HR"
      },
      "execution_count": null,
      "outputs": []
    },
    {
      "cell_type": "markdown",
      "source": [
        "### Dataset Loading"
      ],
      "metadata": {
        "id": "3RnN4peoiCZX"
      }
    },
    {
      "cell_type": "code",
      "source": [
        "from google.colab import drive\n",
        "drive.mount('/content/drive')"
      ],
      "metadata": {
        "id": "1e9X4MqLSlCB"
      },
      "execution_count": null,
      "outputs": []
    },
    {
      "cell_type": "code",
      "source": [
        "# Load Dataset\n",
        "df=pd.read_csv('/content/drive/MyDrive/module 6/data_YesBank_StockPrices.csv')\n"
      ],
      "metadata": {
        "id": "4CkvbW_SlZ_R"
      },
      "execution_count": null,
      "outputs": []
    },
    {
      "cell_type": "markdown",
      "source": [
        "### Dataset First View"
      ],
      "metadata": {
        "id": "x71ZqKXriCWQ"
      }
    },
    {
      "cell_type": "code",
      "source": [
        "# Dataset First Look\n",
        "df.head()"
      ],
      "metadata": {
        "id": "LWNFOSvLl09H"
      },
      "execution_count": null,
      "outputs": []
    },
    {
      "cell_type": "markdown",
      "source": [
        "### Dataset Rows & Columns count"
      ],
      "metadata": {
        "id": "7hBIi_osiCS2"
      }
    },
    {
      "cell_type": "code",
      "source": [
        "# Dataset Rows & Columns count\n",
        "df.shape"
      ],
      "metadata": {
        "id": "Kllu7SJgmLij"
      },
      "execution_count": null,
      "outputs": []
    },
    {
      "cell_type": "markdown",
      "source": [
        "### Dataset Information"
      ],
      "metadata": {
        "id": "JlHwYmJAmNHm"
      }
    },
    {
      "cell_type": "code",
      "source": [
        "# Dataset Info\n",
        "df.info()"
      ],
      "metadata": {
        "id": "e9hRXRi6meOf"
      },
      "execution_count": null,
      "outputs": []
    },
    {
      "cell_type": "markdown",
      "source": [
        "#### Duplicate Values"
      ],
      "metadata": {
        "id": "35m5QtbWiB9F"
      }
    },
    {
      "cell_type": "code",
      "source": [
        "# Dataset Duplicate Value Count\n",
        "df.duplicated().sum()"
      ],
      "metadata": {
        "id": "1sLdpKYkmox0"
      },
      "execution_count": null,
      "outputs": []
    },
    {
      "cell_type": "markdown",
      "source": [
        "#### Missing Values/Null Values"
      ],
      "metadata": {
        "id": "PoPl-ycgm1ru"
      }
    },
    {
      "cell_type": "code",
      "source": [
        "# Missing Values/Null Values Count\n",
        "df.isnull().sum()"
      ],
      "metadata": {
        "id": "GgHWkxvamxVg"
      },
      "execution_count": null,
      "outputs": []
    },
    {
      "cell_type": "markdown",
      "source": [
        "### What did you know about your dataset?"
      ],
      "metadata": {
        "id": "H0kj-8xxnORC"
      }
    },
    {
      "cell_type": "markdown",
      "source": [
        "The dataset appears to capture monthly stock price movements, showing the opening, highest, lowest, and closing prices for each month-year combination. It's structured to analyze how stock prices fluctuate over time, which is crucial for understanding market trends and making informed investment decisions."
      ],
      "metadata": {
        "id": "gfoNAAC-nUe_"
      }
    },
    {
      "cell_type": "markdown",
      "source": [
        "## ***2. Understanding Your Variables***"
      ],
      "metadata": {
        "id": "nA9Y7ga8ng1Z"
      }
    },
    {
      "cell_type": "code",
      "source": [
        "# Dataset Columns\n",
        "df.columns"
      ],
      "metadata": {
        "id": "j7xfkqrt5Ag5"
      },
      "execution_count": null,
      "outputs": []
    },
    {
      "cell_type": "code",
      "source": [
        "# Dataset Describe\n",
        "df.describe()"
      ],
      "metadata": {
        "id": "DnOaZdaE5Q5t"
      },
      "execution_count": null,
      "outputs": []
    },
    {
      "cell_type": "code",
      "source": [
        "# Note the outliers\n",
        "\n",
        "plt.figure(figsize=(10, 6))\n",
        "sns.boxplot(data=df[['Open', 'High', 'Low', 'Close']], palette='Set3')\n",
        "plt.title('Box Plot of Open, High, Low, Close Prices')\n",
        "plt.ylabel('Price')\n",
        "plt.grid(True)\n",
        "plt.tight_layout()\n",
        "plt.show()"
      ],
      "metadata": {
        "id": "SmvEbJA9kRwV"
      },
      "execution_count": null,
      "outputs": []
    },
    {
      "cell_type": "markdown",
      "source": [
        "### Variables Description"
      ],
      "metadata": {
        "id": "PBTbrJXOngz2"
      }
    },
    {
      "cell_type": "markdown",
      "source": [
        "*   Date: Month-year format denoting the time period of the stock data.\n",
        "*   Open: Opening price of the stock on a given date.\n",
        "*   High: Highest price of the stock reached during the trading day.\n",
        "*   Low: Lowest price of the stock reached during the trading day.\n",
        "*   Close: Closing price of the stock on a given date.\n",
        "\n",
        "\n",
        "\n",
        "\n",
        "\n"
      ],
      "metadata": {
        "id": "aJV4KIxSnxay"
      }
    },
    {
      "cell_type": "markdown",
      "source": [
        "### Check Unique Values for each variable."
      ],
      "metadata": {
        "id": "u3PMJOP6ngxN"
      }
    },
    {
      "cell_type": "code",
      "source": [
        "# Check Unique Values for each variable.\n",
        "df.nunique()"
      ],
      "metadata": {
        "id": "zms12Yq5n-jE"
      },
      "execution_count": null,
      "outputs": []
    },
    {
      "cell_type": "markdown",
      "source": [
        "## 3. ***Data Wrangling***"
      ],
      "metadata": {
        "id": "dauF4eBmngu3"
      }
    },
    {
      "cell_type": "markdown",
      "source": [
        "### Data Wrangling Code"
      ],
      "metadata": {
        "id": "bKJF3rekwFvQ"
      }
    },
    {
      "cell_type": "code",
      "source": [
        "# Write your code to make your dataset analysis ready.\n",
        "df['Date'] = pd.to_datetime(df['Date'], format='%b-%y')\n",
        "\n",
        "# Extract the month number\n",
        "df['MonthNumber'] = df['Date'].dt.month\n",
        "df['YearNumber'] = df['Date'].dt.year\n",
        "df.drop(columns='Date',inplace=True)"
      ],
      "metadata": {
        "id": "wk-9a2fpoLcV"
      },
      "execution_count": null,
      "outputs": []
    },
    {
      "cell_type": "code",
      "source": [
        "df.head()"
      ],
      "metadata": {
        "id": "rRL2KZ8-ks1P"
      },
      "execution_count": null,
      "outputs": []
    },
    {
      "cell_type": "markdown",
      "source": [
        "### What all manipulations have you done and insights you found?"
      ],
      "metadata": {
        "id": "MSa1f5Uengrz"
      }
    },
    {
      "cell_type": "markdown",
      "source": [
        "*   Checked for missing values.\n",
        "*   Checked for duplicated columns.\n",
        "*   Identified outliers using box plot charts.\n",
        "*   Extracted month and year numbers from the date column.\n",
        "*   Dropped the date column after extracting month and year numbers.\n",
        "\n",
        "\n",
        "\n",
        "\n"
      ],
      "metadata": {
        "id": "LbyXE7I1olp8"
      }
    },
    {
      "cell_type": "markdown",
      "source": [
        "## ***4. Data Vizualization, Storytelling & Experimenting with charts : Understand the relationships between variables***"
      ],
      "metadata": {
        "id": "GF8Ens_Soomf"
      }
    },
    {
      "cell_type": "markdown",
      "source": [
        "#### Chart - Monthly Closing Prices Over Years"
      ],
      "metadata": {
        "id": "0wOQAZs5pc--"
      }
    },
    {
      "cell_type": "code",
      "source": [
        "plt.figure(figsize=(10, 6))\n",
        "for year in df['YearNumber'].unique():\n",
        "    year_data = df[df['YearNumber'] == year]\n",
        "    plt.plot(year_data['MonthNumber'], year_data['Close'], marker='o', label=f'Year {year}')\n",
        "plt.xlabel('Month')\n",
        "plt.ylabel('Closing Price')\n",
        "plt.title('Monthly Closing Prices Over Years')\n",
        "plt.legend()\n",
        "plt.grid(True)\n",
        "plt.tight_layout()\n",
        "plt.show()"
      ],
      "metadata": {
        "id": "7v_ESjsspbW7"
      },
      "execution_count": null,
      "outputs": []
    },
    {
      "cell_type": "markdown",
      "source": [
        "##### 1. Why did you pick the specific chart?"
      ],
      "metadata": {
        "id": "K5QZ13OEpz2H"
      }
    },
    {
      "cell_type": "markdown",
      "source": [
        "This line plot was chosen to visualize the monthly closing prices of stocks over different years. It helps in understanding how the closing prices fluctuate month by month across multiple years, highlighting trends and patterns over time."
      ],
      "metadata": {
        "id": "XESiWehPqBRc"
      }
    },
    {
      "cell_type": "markdown",
      "source": [
        "##### 2. What is/are the insight(s) found from the chart?"
      ],
      "metadata": {
        "id": "lQ7QKXXCp7Bj"
      }
    },
    {
      "cell_type": "markdown",
      "source": [
        "From the chart, insights can include identifying seasonal trends in stock prices. For example, consistent peaks or dips in certain months across multiple years could indicate recurring market behaviors. It also shows if there are any outlier months where prices significantly deviate from the general trend."
      ],
      "metadata": {
        "id": "C_j1G7yiqdRP"
      }
    },
    {
      "cell_type": "markdown",
      "source": [
        "##### 3. Will the gained insights help creating a positive business impact?\n",
        "Are there any insights that lead to negative growth? Justify with specific reason."
      ],
      "metadata": {
        "id": "448CDAPjqfQr"
      }
    },
    {
      "cell_type": "markdown",
      "source": [
        "\n",
        "\n",
        "*   Yes, these insights can be valuable for strategic decision-making in trading or investment. Understanding seasonal patterns can help in timing buy or sell decisions, optimizing portfolio management, and managing risk more effectively.\n",
        "*   Insights indicating negative growth might include prolonged periods of declining closing prices across all or specific months over the years. This trend could imply economic downturns, sector-specific issues, or company-specific challenges affecting stock performance negatively. Identifying such trends early can prompt proactive measures to mitigate risks or adjust investment strategies accordingly.\n",
        "\n"
      ],
      "metadata": {
        "id": "3cspy4FjqxJW"
      }
    },
    {
      "cell_type": "markdown",
      "source": [
        "#### Chart - Average High Prices by Year\n",
        "\n"
      ],
      "metadata": {
        "id": "KSlN3yHqYklG"
      }
    },
    {
      "cell_type": "code",
      "source": [
        "plt.figure(figsize=(10, 6))\n",
        "avg_highs = df.groupby('YearNumber')['High'].mean()\n",
        "plt.bar(avg_highs.index.astype(str), avg_highs.values, color='b', alpha=0.6)\n",
        "plt.xlabel('Year')\n",
        "plt.ylabel('Average High Price')\n",
        "plt.title('Average High Prices by Year')\n",
        "plt.grid(True)\n",
        "plt.tight_layout()\n",
        "plt.show()"
      ],
      "metadata": {
        "id": "R4YgtaqtYklH"
      },
      "execution_count": null,
      "outputs": []
    },
    {
      "cell_type": "markdown",
      "source": [
        "##### 1. Why did you pick the specific chart?"
      ],
      "metadata": {
        "id": "t6dVpIINYklI"
      }
    },
    {
      "cell_type": "markdown",
      "source": [
        "The bar chart displaying average high prices by year was chosen to visually compare and analyze the average high prices of stocks across different years. It provides a clear snapshot of how these prices fluctuate annually, helping to identify trends or anomalies over time."
      ],
      "metadata": {
        "id": "5aaW0BYyYklI"
      }
    },
    {
      "cell_type": "markdown",
      "source": [
        "##### 2. What is/are the insight(s) found from the chart?"
      ],
      "metadata": {
        "id": "ijmpgYnKYklI"
      }
    },
    {
      "cell_type": "markdown",
      "source": [
        "Insights from the chart include identifying peak years where average high prices were significantly higher or lower compared to other years. It also highlights any consistent upward or downward trends in average high prices over the years, indicating market trends and potential patterns that could influence trading decisions."
      ],
      "metadata": {
        "id": "PSx9atu2YklI"
      }
    },
    {
      "cell_type": "markdown",
      "source": [
        "##### 3. Will the gained insights help creating a positive business impact?\n",
        "Are there any insights that lead to negative growth? Justify with specific reason."
      ],
      "metadata": {
        "id": "-JiQyfWJYklI"
      }
    },
    {
      "cell_type": "markdown",
      "source": [
        "\n",
        "*   Yes, these insights can be instrumental in strategic decision-making for investors and traders. Understanding average high price trends can assist in timing entry or exit points in the market, optimizing trading strategies, and forecasting potential profitability.\n",
        "*   Insights indicating negative growth might include years where the average high prices show a consistent decline or stagnation compared to previous years. This could signify economic downturns, sector-specific challenges, or external factors impacting market performance negatively. Identifying such trends early allows stakeholders to adjust investment strategies, mitigate risks, or explore alternative market opportunities.\n",
        "\n"
      ],
      "metadata": {
        "id": "BcBbebzrYklV"
      }
    },
    {
      "cell_type": "markdown",
      "source": [
        "#### Chart - Distribution of Low Prices by Month"
      ],
      "metadata": {
        "id": "EM7whBJCYoAo"
      }
    },
    {
      "cell_type": "code",
      "source": [
        "plt.figure(figsize=(10, 6))\n",
        "sns.boxplot(x='MonthNumber', y='Low', data=df, palette='Set3')\n",
        "plt.xlabel('Month')\n",
        "plt.ylabel('Low Price')\n",
        "plt.title('Distribution of Low Prices by Month')\n",
        "plt.grid(True)\n",
        "plt.tight_layout()\n",
        "plt.show()"
      ],
      "metadata": {
        "id": "t6GMdE67YoAp"
      },
      "execution_count": null,
      "outputs": []
    },
    {
      "cell_type": "markdown",
      "source": [
        "##### 1. Why did you pick the specific chart?"
      ],
      "metadata": {
        "id": "fge-S5ZAYoAp"
      }
    },
    {
      "cell_type": "markdown",
      "source": [
        "The box plot depicting the distribution of low prices by month was chosen because it effectively visualizes the variation and central tendency of low prices across different months. It helps in identifying outliers, if any, and understanding the spread and median values of low prices month-wise."
      ],
      "metadata": {
        "id": "5dBItgRVYoAp"
      }
    },
    {
      "cell_type": "markdown",
      "source": [
        "##### 2. What is/are the insight(s) found from the chart?"
      ],
      "metadata": {
        "id": "85gYPyotYoAp"
      }
    },
    {
      "cell_type": "markdown",
      "source": [
        "Insights from the chart include identifying which months typically have lower or higher low prices compared to others. It also highlights any months with significant variability in low prices, indicating periods of market volatility or specific economic factors influencing price fluctuations."
      ],
      "metadata": {
        "id": "4jstXR6OYoAp"
      }
    },
    {
      "cell_type": "markdown",
      "source": [
        "##### 3. Will the gained insights help creating a positive business impact?\n",
        "Are there any insights that lead to negative growth? Justify with specific reason."
      ],
      "metadata": {
        "id": "RoGjAbkUYoAp"
      }
    },
    {
      "cell_type": "markdown",
      "source": [
        "\n",
        "\n",
        "*   Yes, these insights are valuable for making informed trading decisions. Understanding the distribution and variability of low prices month-wise can aid in timing purchases or sales of stocks, optimizing entry or exit points, and managing risk effectively.\n",
        "*   Insights indicating negative growth might include months where the median or range of low prices is consistently lower compared to previous periods. This could suggest declining market conditions or economic uncertainties affecting stock performance negatively. Identifying such trends allows stakeholders to adjust strategies, hedge risks, or diversify investments to mitigate potential losses during downturns.\n",
        "\n"
      ],
      "metadata": {
        "id": "zfJ8IqMcYoAp"
      }
    },
    {
      "cell_type": "markdown",
      "source": [
        "#### Chart - Relationship Between Open and Close Prices by Year"
      ],
      "metadata": {
        "id": "4Of9eVA-YrdM"
      }
    },
    {
      "cell_type": "code",
      "source": [
        "plt.figure(figsize=(10, 6))\n",
        "for year in df['YearNumber'].unique():\n",
        "    year_data = df[df['YearNumber'] == year]\n",
        "    plt.scatter(year_data['Open'], year_data['Close'], label=f'Year {year}')\n",
        "plt.xlabel('Open Price')\n",
        "plt.ylabel('Close Price')\n",
        "plt.title('Relationship Between Open and Close Prices by Year')\n",
        "plt.legend()\n",
        "plt.grid(True)\n",
        "plt.tight_layout()\n",
        "plt.show()"
      ],
      "metadata": {
        "id": "irlUoxc8YrdO"
      },
      "execution_count": null,
      "outputs": []
    },
    {
      "cell_type": "markdown",
      "source": [
        "##### 1. Why did you pick the specific chart?"
      ],
      "metadata": {
        "id": "iky9q4vBYrdO"
      }
    },
    {
      "cell_type": "markdown",
      "source": [
        "The scatter plot showing the relationship between open and close prices by year was chosen because it visually represents how these two key price points correlate and vary across different years. It helps in understanding if there's a consistent pattern or trend in how stocks open and close over time."
      ],
      "metadata": {
        "id": "aJRCwT6DYrdO"
      }
    },
    {
      "cell_type": "markdown",
      "source": [
        "##### 2. What is/are the insight(s) found from the chart?"
      ],
      "metadata": {
        "id": "F6T5p64dYrdO"
      }
    },
    {
      "cell_type": "markdown",
      "source": [
        "Insights from the chart include identifying if there's a strong linear relationship between open and close prices each year. It helps in spotting any outliers where stocks opened significantly higher or lower compared to their closing prices, indicating intraday volatility or market sentiment shifts."
      ],
      "metadata": {
        "id": "Xx8WAJvtYrdO"
      }
    },
    {
      "cell_type": "markdown",
      "source": [
        "##### 3. Will the gained insights help creating a positive business impact?\n",
        "Are there any insights that lead to negative growth? Justify with specific reason."
      ],
      "metadata": {
        "id": "y-Ehk30pYrdP"
      }
    },
    {
      "cell_type": "markdown",
      "source": [
        "\n",
        "\n",
        "*   Yes, these insights are crucial for traders and investors in making informed decisions. Understanding the relationship between open and close prices can assist in predicting price movements throughout the trading day, optimizing entry or exit points, and managing risk more effectively.\n",
        "*   Insights indicating negative growth might include years where there's a noticeable divergence between open and close prices, especially if closing prices consistently fall below opening prices across multiple years. This divergence could signify bearish market conditions, economic downturns, or company-specific challenges affecting stock performance negatively. Recognizing such trends allows stakeholders to adjust strategies, hedge risks, or explore alternative investment opportunities during periods of market decline.\n",
        "\n"
      ],
      "metadata": {
        "id": "jLNxxz7MYrdP"
      }
    },
    {
      "cell_type": "markdown",
      "source": [
        "#### Chart - Monthly High Prices Over Years"
      ],
      "metadata": {
        "id": "bamQiAODYuh1"
      }
    },
    {
      "cell_type": "code",
      "source": [
        "plt.figure(figsize=(10, 6))\n",
        "months = df['MonthNumber'].unique()\n",
        "for month in months:\n",
        "    month_data = df[df['MonthNumber'] == month]\n",
        "    plt.plot(month_data['YearNumber'], month_data['High'], marker='o', label=f'Month {month}')\n",
        "plt.xlabel('Year')\n",
        "plt.ylabel('High Price')\n",
        "plt.title('Monthly High Prices Over Years')\n",
        "plt.legend()\n",
        "plt.grid(True)\n",
        "plt.tight_layout()\n",
        "plt.show()"
      ],
      "metadata": {
        "id": "TIJwrbroYuh3"
      },
      "execution_count": null,
      "outputs": []
    },
    {
      "cell_type": "markdown",
      "source": [
        "##### 1. Why did you pick the specific chart?"
      ],
      "metadata": {
        "id": "QHF8YVU7Yuh3"
      }
    },
    {
      "cell_type": "markdown",
      "source": [
        "The line plot depicting monthly high prices over years was chosen to visualize how high prices fluctuate across different years for each month. It helps in understanding seasonal trends and variations in high prices over time."
      ],
      "metadata": {
        "id": "dcxuIMRPYuh3"
      }
    },
    {
      "cell_type": "markdown",
      "source": [
        "##### 2. What is/are the insight(s) found from the chart?"
      ],
      "metadata": {
        "id": "GwzvFGzlYuh3"
      }
    },
    {
      "cell_type": "markdown",
      "source": [
        "Insights from the chart include identifying which months typically have higher or lower high prices across different years. It also highlights any consistent upward or downward trends in high prices month-wise, providing insights into seasonal market behaviors."
      ],
      "metadata": {
        "id": "uyqkiB8YYuh3"
      }
    },
    {
      "cell_type": "markdown",
      "source": [
        "##### 3. Will the gained insights help creating a positive business impact?\n",
        "Are there any insights that lead to negative growth? Justify with specific reason."
      ],
      "metadata": {
        "id": "qYpmQ266Yuh3"
      }
    },
    {
      "cell_type": "markdown",
      "source": [
        "\n",
        "\n",
        "*   Yes, these insights are valuable for strategic decision-making in trading or investment. Understanding monthly high price trends can assist in timing buy or sell decisions, optimizing portfolio management, and forecasting potential profitability.\n",
        "*   Insights indicating negative growth might include months where high prices show a consistent decline or stagnation compared to previous years. This could indicate economic downturns, sector-specific challenges, or external factors impacting market performance negatively. Recognizing such trends early allows stakeholders to adjust investment strategies, mitigate risks, or explore alternative market opportunities during periods of market decline.\n",
        "\n"
      ],
      "metadata": {
        "id": "_WtzZ_hCYuh4"
      }
    },
    {
      "cell_type": "markdown",
      "source": [
        "## ***6. Feature Engineering & Data Pre-processing***"
      ],
      "metadata": {
        "id": "yLjJCtPM0KBk"
      }
    },
    {
      "cell_type": "markdown",
      "source": [
        "### 1. Handling Missing Values"
      ],
      "metadata": {
        "id": "xiyOF9F70UgQ"
      }
    },
    {
      "cell_type": "code",
      "source": [
        "# Handling Missing Values & Missing Value Imputation\n",
        "df.isnull().sum()"
      ],
      "metadata": {
        "id": "iRsAHk1K0fpS"
      },
      "execution_count": null,
      "outputs": []
    },
    {
      "cell_type": "markdown",
      "source": [
        "### 2. Handling Outliers"
      ],
      "metadata": {
        "id": "id1riN9m0vUs"
      }
    },
    {
      "cell_type": "code",
      "source": [
        "# Handling Outliers & Outlier treatments\n",
        "def remove_outliers_iqr(df, column):\n",
        "    Q1 = df[column].quantile(0.25)\n",
        "    Q3 = df[column].quantile(0.75)\n",
        "    IQR = Q3 - Q1\n",
        "    lower_bound = Q1 - 1.5 * IQR\n",
        "    upper_bound = Q3 + 1.5 * IQR\n",
        "    df[column] = df[column].mask(df[column] < lower_bound, np.nan)\n",
        "    df[column] = df[column].mask(df[column] > upper_bound, np.nan)\n",
        "    return df\n",
        "\n",
        "# Apply IQR outlier removal to each column\n",
        "columns_to_check = ['Open', 'High', 'Low', 'Close']\n",
        "for column in columns_to_check:\n",
        "    df = remove_outliers_iqr(df, column)\n",
        "\n",
        "# Drop rows with NaN values\n",
        "df.dropna(inplace=True)"
      ],
      "metadata": {
        "id": "M6w2CzZf04JK"
      },
      "execution_count": null,
      "outputs": []
    },
    {
      "cell_type": "code",
      "source": [
        "plt.figure(figsize=(10, 6))\n",
        "sns.boxplot(data=df[['Open', 'High', 'Low', 'Close']], palette='Set3')\n",
        "plt.title('Box Plot of Open, High, Low, Close Prices')\n",
        "plt.ylabel('Price')\n",
        "plt.grid(True)\n",
        "plt.tight_layout()\n",
        "plt.show()"
      ],
      "metadata": {
        "id": "fCkUI1rLm1W5"
      },
      "execution_count": null,
      "outputs": []
    },
    {
      "cell_type": "markdown",
      "source": [
        "##### What all outlier treatment techniques have you used and why did you use those techniques?"
      ],
      "metadata": {
        "id": "578E2V7j08f6"
      }
    },
    {
      "cell_type": "markdown",
      "source": [
        "**IQR Method**\n",
        "\n",
        "The technique used here is called Interquartile Range (IQR) outlier removal. It involves calculating the IQR, which is the difference between the third quartile (Q3) and the first quartile (Q1) of a dataset. Outliers are identified as values that fall below Q1 - 1.5 * IQR or above Q3 + 1.5 * IQR. In this function, for each specified column (Open, High, Low, Close), values outside this range are replaced with NaN. Finally, rows containing NaN values are dropped from the dataset. This method effectively filters out extreme values that skew statistical analysis or model performance based on their deviation from the dataset's central tendency."
      ],
      "metadata": {
        "id": "uGZz5OrT1HH-"
      }
    },
    {
      "cell_type": "markdown",
      "source": [
        "### 3. Data Scaling"
      ],
      "metadata": {
        "id": "rMDnDkt2B6du"
      }
    },
    {
      "cell_type": "code",
      "source": [
        "input_data=df.drop(columns='Close')\n",
        "output_data=df['Close']"
      ],
      "metadata": {
        "id": "WgfD8kIrnOyg"
      },
      "execution_count": null,
      "outputs": []
    },
    {
      "cell_type": "code",
      "source": [
        "# Scaling your data\n",
        "from sklearn.preprocessing import StandardScaler\n",
        "scaler=StandardScaler()\n",
        "input_data=scaler.fit_transform(input_data)"
      ],
      "metadata": {
        "id": "dL9LWpySC6x_"
      },
      "execution_count": null,
      "outputs": []
    },
    {
      "cell_type": "markdown",
      "source": [
        "The method used here is StandardScaler from sklearn.preprocessing. StandardScaler scales the input data such that each feature has a mean of 0 and a standard deviation of 1. This transformation is crucial in machine learning to ensure that all features contribute equally to model training and prediction. Standardizing the data removes the mean and scales each feature to unit variance, which is particularly beneficial for algorithms that assume normally distributed data or require standardized inputs, such as linear regression, logistic regression, and support vector machines. It helps in improving the convergence rate and performance of these algorithms by reducing the impact of differing scales among features."
      ],
      "metadata": {
        "id": "yiiVWRdJDDil"
      }
    },
    {
      "cell_type": "markdown",
      "source": [
        "### 4. Data Splitting"
      ],
      "metadata": {
        "id": "BhH2vgX9EjGr"
      }
    },
    {
      "cell_type": "code",
      "source": [
        "# Split your data to train and test. Choose Splitting ratio wisely.\n",
        "from sklearn.model_selection import train_test_split\n",
        "X_train, X_test, y_train, y_test = train_test_split(input_data, output_data, test_size=0.2, random_state=42)"
      ],
      "metadata": {
        "id": "0CTyd2UwEyNM"
      },
      "execution_count": null,
      "outputs": []
    },
    {
      "cell_type": "markdown",
      "source": [
        "The data splitting ratio used here is 80% training data and 20% testing data, specified by test_size=0.2 in train_test_split function. This ratio is commonly chosen to allocate a significant portion of the data for training the machine learning model (80%), while reserving a smaller portion for evaluating its performance (20%).\n",
        "\n",
        "The rationale behind this ratio is to ensure that the model learns patterns and relationships from a sufficiently large dataset during training, which helps in achieving better generalization and performance on unseen data. The test set serves as an independent dataset to assess how well the model can generalize to new, unseen data points, thus providing a measure of its predictive capability and robustness. This approach helps in detecting overfitting and ensures that the model's performance estimates are reliable.\n",
        "\n",
        "\n",
        "\n",
        "\n",
        "\n",
        "\n"
      ],
      "metadata": {
        "id": "qjKvONjwE8ra"
      }
    },
    {
      "cell_type": "code",
      "source": [
        "sns.pairplot(df)\n",
        "plt.show()"
      ],
      "metadata": {
        "id": "KU-Cm66zpa3g"
      },
      "execution_count": null,
      "outputs": []
    },
    {
      "cell_type": "markdown",
      "source": [
        "What it shows: The pairplot visualizes pairwise relationships between variables in the dataset. It displays scatter plots for each pair of variables and histograms along the diagonal for individual variables.\n",
        "\n",
        "Insights: This chart helps in understanding how each variable (Open, High, Low, Close) relates to the others. Scatter plots show the correlation between any two variables, while histograms show the distribution of each variable.\n",
        "\n",
        "Interpretation: For instance, you can observe if there's a linear relationship between Open and Close prices, or if there's clustering or dispersion of data points across different variables."
      ],
      "metadata": {
        "id": "VBrzL-C0mrSn"
      }
    },
    {
      "cell_type": "code",
      "source": [
        "sns.heatmap(df.corr(),annot=True)\n",
        "plt.show()"
      ],
      "metadata": {
        "id": "o2tyen8Opc9Z"
      },
      "execution_count": null,
      "outputs": []
    },
    {
      "cell_type": "markdown",
      "source": [
        "What it shows: The heatmap visualizes the correlation matrix of the dataset using color intensity. Values closer to 1 indicate strong positive correlations (dark colors), while values closer to -1 indicate strong negative correlations (light colors).\n",
        "\n",
        "Insights: This chart allows you to quickly identify which pairs of variables are strongly correlated and which are not. It provides insights into which variables might influence each other and to what extent.\n",
        "\n",
        "Interpretation: For example, if the correlation between Open and High prices is high (near 1), it suggests that changes in Open prices strongly correlate with changes in High prices. Conversely, if correlations are near 0, there may be little linear relationship between the variables.Answer Here."
      ],
      "metadata": {
        "id": "Y2lJ8cobFDb_"
      }
    },
    {
      "cell_type": "markdown",
      "source": [
        "## ***7. ML Model Implementation***"
      ],
      "metadata": {
        "id": "VfCC591jGiD4"
      }
    },
    {
      "cell_type": "markdown",
      "source": [
        "### Lienar Regression"
      ],
      "metadata": {
        "id": "OB4l2ZhMeS1U"
      }
    },
    {
      "cell_type": "code",
      "source": [
        "from sklearn.linear_model import LinearRegression\n",
        "model=LinearRegression()\n",
        "model.fit(X_train,y_train)"
      ],
      "metadata": {
        "id": "rRbm_vXMmfGu"
      },
      "execution_count": null,
      "outputs": []
    },
    {
      "cell_type": "code",
      "source": [
        "model.score(X_test,y_test)*100"
      ],
      "metadata": {
        "id": "3bhg33rfme1s"
      },
      "execution_count": null,
      "outputs": []
    },
    {
      "cell_type": "code",
      "source": [
        "y_pred=model.predict(X_test)\n",
        "y_pred"
      ],
      "metadata": {
        "id": "7ebyywQieS1U"
      },
      "execution_count": null,
      "outputs": []
    },
    {
      "cell_type": "code",
      "source": [
        "df.head(2)"
      ],
      "metadata": {
        "id": "tqSfan6eqlpy"
      },
      "execution_count": null,
      "outputs": []
    },
    {
      "cell_type": "code",
      "source": [
        "sample_data = np.array([[12.58, 14.88, 12.55 , 8, 2005]])  # Adjust based on your dataset\n",
        "\n",
        "# If necessary, scale the input data using the same scaler used during training\n",
        "scaled_sample_data = scaler.transform(sample_data)  # Use scaler.transform() if scaling was applied\n",
        "\n",
        "# Predict the 'Close' value using your trained model\n",
        "predicted_close = model.predict(scaled_sample_data)\n",
        "print(predicted_close)"
      ],
      "metadata": {
        "id": "cVghA9h8qLbf"
      },
      "execution_count": null,
      "outputs": []
    },
    {
      "cell_type": "markdown",
      "source": [
        "#### 1. Explain the ML Model used and it's performance using Evaluation metric Score Chart."
      ],
      "metadata": {
        "id": "ArJBuiUVfxKd"
      }
    },
    {
      "cell_type": "code",
      "source": [
        "plt.figure(figsize=(10, 6))\n",
        "plt.plot(y_test.values, label='Actual')\n",
        "plt.plot(y_pred, label='Predicted')\n",
        "plt.xlabel('Sample Index')\n",
        "plt.ylabel('Close Value')\n",
        "plt.title('Actual vs Predicted Close Values')\n",
        "plt.legend()\n",
        "plt.show()"
      ],
      "metadata": {
        "id": "rqD5ZohzfxKe"
      },
      "execution_count": null,
      "outputs": []
    },
    {
      "cell_type": "markdown",
      "source": [
        "Answer Here."
      ],
      "metadata": {
        "id": "OaLui8CcfxKf"
      }
    },
    {
      "cell_type": "markdown",
      "source": [
        "### ML Model - Ridge Regression"
      ],
      "metadata": {
        "id": "dJ2tPlVmpsJ0"
      }
    },
    {
      "cell_type": "markdown",
      "source": [
        "#### 1. Explain the ML Model used and it's performance using Evaluation metric Score Chart."
      ],
      "metadata": {
        "id": "JWYfwnehpsJ1"
      }
    },
    {
      "cell_type": "code",
      "source": [
        "from sklearn.model_selection import GridSearchCV\n",
        "from sklearn.linear_model import Ridge\n",
        "from sklearn.metrics import mean_squared_error, r2_score\n",
        "# Define the parameter grid\n",
        "param_grid = {'alpha': [0.1, 1, 10, 100, 1000]}\n",
        "\n",
        "# Create the Ridge regression model\n",
        "ridge_model = Ridge()\n",
        "\n",
        "# Create the GridSearchCV object\n",
        "grid_search = GridSearchCV(estimator=ridge_model, param_grid=param_grid, cv=5, scoring='r2')\n",
        "\n",
        "# Fit the grid search to the data\n",
        "grid_search.fit(X_train, y_train)\n",
        "\n",
        "# Get the best parameters and the best model\n",
        "best_params = grid_search.best_params_\n",
        "best_ridge_model = grid_search.best_estimator_\n",
        "\n",
        "print(f\"Best alpha value: {best_params['alpha']}\")\n",
        "\n",
        "# Predictions using the best model\n",
        "y_train_pred = best_ridge_model.predict(X_train)\n",
        "y_test_pred = best_ridge_model.predict(X_test)\n",
        "\n",
        "# Evaluate the model\n",
        "train_mse = mean_squared_error(y_train, y_train_pred)\n",
        "test_mse = mean_squared_error(y_test, y_test_pred)\n",
        "train_r2 = r2_score(y_train, y_train_pred)\n",
        "test_r2 = r2_score(y_test, y_test_pred)\n",
        "\n",
        "print(f'Train MSE: {train_mse:.2f}, Test MSE: {test_mse:.2f}')\n",
        "print(f'Train R-squared: {train_r2:.2f}, Test R-squared: {test_r2:.2f}')\n",
        "\n"
      ],
      "metadata": {
        "id": "FRsBUrVdrl-4"
      },
      "execution_count": null,
      "outputs": []
    },
    {
      "cell_type": "code",
      "source": [
        "# Plot actual vs predicted values\n",
        "plt.figure(figsize=(10, 6))\n",
        "plt.plot(y_test.values, label='Actual Values', color='blue')\n",
        "plt.plot(y_test_pred, label='Predicted Values', color='red', linestyle='dashed')\n",
        "plt.xlabel('Sample Index')\n",
        "plt.ylabel('Close Price')\n",
        "plt.title('Actual vs Predicted Values (Best Ridge Regression)')\n",
        "plt.legend()\n",
        "plt.grid(True)\n",
        "plt.show()"
      ],
      "metadata": {
        "id": "8xmWU7vbrl8-"
      },
      "execution_count": null,
      "outputs": []
    },
    {
      "cell_type": "code",
      "source": [
        "df.head()"
      ],
      "metadata": {
        "id": "LYWOTJULrl6X"
      },
      "execution_count": null,
      "outputs": []
    },
    {
      "cell_type": "code",
      "source": [
        "sample_data = np.array([[12.58, 14.88, 12.55 , 8, 2005]])\n",
        "scaled_sample_data = scaler.transform(sample_data)\n",
        "\n",
        "# Predict the 'Close' value using your trained model\n",
        "predicted_close = best_ridge_model.predict(scaled_sample_data)\n",
        "print(f'Predicted Close value: {predicted_close[0]:.2f}')"
      ],
      "metadata": {
        "id": "lihKlJuhrl22"
      },
      "execution_count": null,
      "outputs": []
    },
    {
      "cell_type": "markdown",
      "source": [
        "### 1. Which Evaluation metrics did you consider for a positive business impact and why?"
      ],
      "metadata": {
        "id": "h_CCil-SKHpo"
      }
    },
    {
      "cell_type": "markdown",
      "source": [
        "\n",
        "\n",
        "*   Metrics Considered: Mean Squared Error (MSE) and R-squared (R2).\n",
        "\n",
        "*   Reasoning: MSE measures the average squared difference between predicted values and actual values, providing insight into prediction accuracy. R-squared (R2) indicates the proportion of the variance in the dependent variable that is predictable from the independent variables, demonstrating how well the model fits the data. These metrics are crucial for assessing model performance and ensuring accurate predictions, which are essential for making informed business decisions.\n",
        "\n"
      ],
      "metadata": {
        "id": "jHVz9hHDKFms"
      }
    },
    {
      "cell_type": "markdown",
      "source": [
        "### 2. Which ML model did you choose from the above created models as your final prediction model and why?"
      ],
      "metadata": {
        "id": "cBFFvTBNJzUa"
      }
    },
    {
      "cell_type": "markdown",
      "source": [
        "\n",
        "\n",
        "*   Chosen Model: Ridge Regression (Ridge model after hyperparameter tuning).\n",
        "\n",
        "*   Reasoning: Ridge regression was chosen as the final model due to its ability to handle multicollinearity (correlation among predictors) by introducing a regularization term (alpha). This helps in reducing model complexity and overfitting, thereby improving generalization to new data. The best alpha parameter obtained from GridSearchCV ensures optimal regularization strength, balancing between bias and variance to enhance model performance.\n",
        "\n"
      ],
      "metadata": {
        "id": "6ksF5Q1LKTVm"
      }
    },
    {
      "cell_type": "markdown",
      "source": [
        "### 3. Explain the model which you have used and the feature importance using any model explainability tool?"
      ],
      "metadata": {
        "id": "HvGl1hHyA_VK"
      }
    },
    {
      "cell_type": "markdown",
      "source": [
        "\n",
        "\n",
        "*   Model Explanation: Ridge regression is a linear regression model that incorporates L2 regularization. It adds a penalty term to the ordinary least squares objective function, minimizing the sum of squared residuals plus the regularization term (alpha times the sum of squared coefficients). This regularization helps in shrinking the coefficients towards zero, reducing their variance and improving the model's ability to generalize.\n",
        "\n",
        "*   Feature Importance: In linear models like Ridge regression, feature importance can be inferred from the magnitude of the coefficients after fitting the model. Larger coefficients indicate stronger influence of those features on the predicted outcome. Tools like permutation importance or partial dependence plots can further help visualize and interpret the impact of each feature on the model predictions, providing insights into which variables are most influential in determining the target variable.\n",
        "\n"
      ],
      "metadata": {
        "id": "YnvVTiIxBL-C"
      }
    },
    {
      "cell_type": "markdown",
      "source": [
        "# **Conclusion**"
      ],
      "metadata": {
        "id": "gCX9965dhzqZ"
      }
    },
    {
      "cell_type": "markdown",
      "source": [
        "The project successfully applied Ridge regression to predict stock prices using historical data, demonstrating the effectiveness of machine learning techniques in financial forecasting. Comprehensive data preprocessing ensured high-quality inputs by addressing missing values, correcting data types, managing outliers, and encoding categorical variables, along with scaling numerical features for optimal model performance.\n",
        "\n",
        "Ridge regression was selected to handle multicollinearity and prevent overfitting, with hyperparameter tuning via GridSearchCV identifying an optimal alpha value of 1. The model achieved high R-squared scores of 0.99 on both training and test datasets, indicating a strong fit. The low mean squared error (MSE) values of 50.04 for training and 82.43 for testing further validated the model's predictive accuracy.\n",
        "\n",
        "Exploratory Data Analysis (EDA) provided valuable insights into stock price trends and relationships between variables, with visualizations like line plots and scatter plots aiding in understanding the data patterns and influential factors.\n",
        "\n",
        "In summary, the project effectively utilized machine learning techniques, specifically Ridge regression, to predict stock prices with high accuracy. The rigorous data preprocessing, careful model selection, and thorough evaluation highlighted the robustness of the methodology. Future work could involve exploring additional models or advanced feature engineering techniques to further enhance the predictive capabilities."
      ],
      "metadata": {
        "id": "Fjb1IsQkh3yE"
      }
    },
    {
      "cell_type": "markdown",
      "source": [
        "### ***Hurrah! You have successfully completed your Machine Learning Capstone Project !!!***"
      ],
      "metadata": {
        "id": "gIfDvo9L0UH2"
      }
    },
    {
      "cell_type": "markdown",
      "source": [
        "# **Thank you for your time. I look forward to your response.**\n",
        "**ROHIT PATIL**"
      ],
      "metadata": {
        "id": "8r8o97RKsgfs"
      }
    }
  ]
}